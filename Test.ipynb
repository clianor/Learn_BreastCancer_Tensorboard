{
 "cells": [
  {
   "cell_type": "code",
   "execution_count": 1,
   "metadata": {
    "collapsed": true
   },
   "outputs": [],
   "source": [
    "from sklearn.metrics import classification_report\n",
    "from sklearn.model_selection import train_test_split\n",
    "import tensorflow as tf\n",
    "import numpy as np\n",
    "import codecs\n",
    "import csv"
   ]
  },
  {
   "cell_type": "code",
   "execution_count": 2,
   "metadata": {
    "collapsed": true
   },
   "outputs": [],
   "source": [
    "with codecs.open(\"BreastCancer.csv\", \"r\", \"utf-8\") as f:\n",
    "    dataSet = np.array([row for row in csv.reader(f)][1:])"
   ]
  },
  {
   "cell_type": "code",
   "execution_count": 3,
   "metadata": {
    "collapsed": true
   },
   "outputs": [],
   "source": [
    "targets = {\n",
    "    \"B\":0,\n",
    "    \"M\":1\n",
    "}"
   ]
  },
  {
   "cell_type": "code",
   "execution_count": 4,
   "metadata": {
    "collapsed": true
   },
   "outputs": [],
   "source": [
    "X = dataSet[:,2:].astype(np.float32)\n",
    "Y = dataSet[:,1]\n",
    "Y[Y == \"B\"] = targets[\"B\"]\n",
    "Y[Y == \"M\"] = targets[\"M\"]"
   ]
  },
  {
   "cell_type": "code",
   "execution_count": 5,
   "metadata": {
    "collapsed": true
   },
   "outputs": [],
   "source": [
    "trainX, testX, trainY, testY = train_test_split(X, Y, test_size=0.25, random_state=1234)"
   ]
  },
  {
   "cell_type": "code",
   "execution_count": 6,
   "metadata": {
    "scrolled": true
   },
   "outputs": [
    {
     "name": "stdout",
     "output_type": "stream",
     "text": [
      "0 19453.2 acc 0.631455\n",
      "100 0.279639 acc 0.938967\n",
      "200 0.246942 acc 0.938967\n",
      "300 0.173875 acc 0.943662\n",
      "400 0.15475 acc 0.943662\n",
      "500 0.150216 acc 0.941315\n",
      "600 0.143573 acc 0.943662\n",
      "700 0.140525 acc 0.943662\n",
      "800 0.138299 acc 0.943662\n",
      "900 0.13632 acc 0.943662\n",
      "1000 0.135648 acc 0.943662\n",
      "test acc: 0.93007\n",
      "             precision    recall  f1-score   support\n",
      "\n",
      "          0       0.91      0.98      0.95        88\n",
      "          1       0.96      0.85      0.90        55\n",
      "\n",
      "avg / total       0.93      0.93      0.93       143\n",
      "\n"
     ]
    }
   ],
   "source": [
    "X = tf.placeholder(tf.float32, [None, trainX.shape[1]], name=\"X\")\n",
    "Y = tf.placeholder(tf.float32, [None, 2], name=\"Y\")\n",
    "\n",
    "with tf.name_scope(\"input\"):\n",
    "    W1 = tf.Variable(tf.random_uniform([trainX.shape[1], 100], -1., 1.), name=\"W1\")\n",
    "    b1 = tf.Variable(tf.zeros([100]), name=\"b1\")\n",
    "    L1 = tf.nn.relu(tf.add(tf.matmul(X, W1), b1))\n",
    "\n",
    "with tf.name_scope(\"output\"):\n",
    "    W2 = tf.Variable(tf.random_uniform([100, 2], -1., 1.), name=\"W2\")\n",
    "    b2 = tf.Variable(tf.zeros([2]), name=\"b2\")\n",
    "    L2 = tf.add(tf.matmul(L1, W2), b2)\n",
    "\n",
    "with tf.name_scope(\"optimizer\"):\n",
    "    cost = tf.reduce_mean(tf.nn.softmax_cross_entropy_with_logits_v2(logits=L2, labels=Y))\n",
    "    optimizer = tf.train.GradientDescentOptimizer(learning_rate=1e-3).minimize(cost)\n",
    "    tf.summary.scalar(\"cost\", cost)\n",
    "\n",
    "prediction = tf.argmax(tf.nn.softmax(L2), axis=1)\n",
    "target = tf.argmax(Y, axis=1)\n",
    "\n",
    "is_correct = tf.equal(prediction, target)\n",
    "accuracy = tf.reduce_mean(tf.cast(is_correct, tf.float32))\n",
    "\n",
    "with tf.Session() as sess:\n",
    "    sess.run(tf.global_variables_initializer())\n",
    "    one_hot_trainY = sess.run(tf.one_hot(trainY, 2))\n",
    "    one_hot_testY = sess.run(tf.one_hot(testY, 2))\n",
    "    \n",
    "    merged = tf.summary.merge_all()\n",
    "    writer = tf.summary.FileWriter(\"./logs/train\", sess.graph)\n",
    "    val_writer = tf.summary.FileWriter(\"./logs/validation\", sess.graph)\n",
    "    \n",
    "    for i in range(101):\n",
    "        sess.run(optimizer, feed_dict={X:trainX, Y:one_hot_trainY})\n",
    "        \n",
    "        if i % 10 == 0:\n",
    "            c = sess.run(cost, feed_dict={X:trainX, Y:one_hot_trainY})\n",
    "            print(i, c, \"acc\", sess.run(accuracy, feed_dict={X:trainX, Y:one_hot_trainY}))\n",
    "    \n",
    "        summary = sess.run(merged, feed_dict={X:trainX, Y:one_hot_trainY})\n",
    "        writer.add_summary(summary, i)\n",
    "        writer.flush()\n",
    "        \n",
    "        summary = sess.run(merged, feed_dict={X:testX, Y:one_hot_testY})\n",
    "        val_writer.add_summary(summary, i)\n",
    "        val_writer.flush()\n",
    "    \n",
    "    print(\"test acc:\", sess.run(accuracy, feed_dict={X:testX, Y:one_hot_testY}))\n",
    "    p = sess.run(prediction, feed_dict={X:testX, Y:one_hot_testY})\n",
    "    t = sess.run(target, feed_dict={Y: one_hot_testY})\n",
    "    print(classification_report(t, p))"
   ]
  }
 ],
 "metadata": {
  "kernelspec": {
   "display_name": "Python 3",
   "language": "python",
   "name": "python3"
  },
  "language_info": {
   "codemirror_mode": {
    "name": "ipython",
    "version": 3
   },
   "file_extension": ".py",
   "mimetype": "text/x-python",
   "name": "python",
   "nbconvert_exporter": "python",
   "pygments_lexer": "ipython3",
   "version": "3.5.3"
  }
 },
 "nbformat": 4,
 "nbformat_minor": 2
}
